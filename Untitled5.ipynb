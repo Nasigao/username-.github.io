{
  "nbformat": 4,
  "nbformat_minor": 0,
  "metadata": {
    "colab": {
      "provenance": []
    },
    "kernelspec": {
      "name": "python3",
      "display_name": "Python 3"
    },
    "language_info": {
      "name": "python"
    }
  },
  "cells": [
    {
      "cell_type": "code",
      "execution_count": null,
      "metadata": {
        "id": "70Z5N3hRhyzV"
      },
      "outputs": [],
      "source": [
        "<!DOCTYPE html>\n",
        "<html lang=\"ko\">\n",
        "<head>\n",
        "    <meta charset=\"UTF-8\">\n",
        "    <title>음식 주문 키오스크</title>\n",
        "    <link rel=\"stylesheet\" href=\"styles.css\">\n",
        "</head>\n",
        "<body>\n",
        "    <h1>음식 주문 키오스크</h1>\n",
        "    <div id=\"menu\">\n",
        "        <h2>메뉴</h2>\n",
        "        <ul>\n",
        "            <li onclick=\"selectItem('햄버거')\">햄버거 - 5000원</li>\n",
        "            <li onclick=\"selectItem('피자')\">피자 - 8000원</li>\n",
        "            <li onclick=\"selectItem('샐러드')\">샐러드 - 3000원</li>\n",
        "        </ul>\n",
        "    </div>\n",
        "    <div id=\"order\">\n",
        "        <h2>주문 내역</h2>\n",
        "        <p id=\"selected-items\">선택한 음식이 없습니다.</p>\n",
        "        <button onclick=\"confirmOrder()\">주문 확인</button>\n",
        "    </div>\n",
        "    <script src=\"script.js\"></script>\n",
        "</body>\n",
        "</html>\n"
      ]
    }
  ]
}